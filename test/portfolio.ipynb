{
 "cells": [
  {
   "cell_type": "code",
   "execution_count": 2,
   "metadata": {
    "collapsed": false
   },
   "outputs": [
    {
     "name": "stdout",
     "output_type": "stream",
     "text": [
      "0.0\n"
     ]
    },
    {
     "data": {
      "image/png": "[encoded data removed]",
      "text/plain": [
       "<Figure size 432x288 with 1 Axes>"
      ]
     },
     "metadata": {},
     "output_type": "display_data"
    }
   ],
   "source": [
    "import math\n",
    "\n",
    "from bin.euro_option import EuroCall, EuroPut\n",
    "from bin.portfolio import Portfolio\n",
    "from bin.stock import Stock\n",
    "\n",
    "if __name__ == '__main__':\n",
    "    stock_1 = Stock(10, 3)\n",
    "    call_2 = EuroCall(10, 3, True)\n",
    "    portfolio = Portfolio([call_2, stock_1])\n",
    "    portfolio.graph_payoff(start=0, end=call_2.K * 2)\n",
    "\n",
    "    # Iron Condor of Amazon\n",
    "    portfolio = Portfolio([EuroCall(K=405, T=1, is_short=False, price=\"BSM\", S0=332),\n",
    "                           EuroCall(K=375, T=1, is_short=True, price=\"BSM\", S0=332),\n",
    "                           EuroPut(K=300, T=1, is_short=True, price=\"BSM\", S0=332),\n",
    "                           EuroPut(K=270, T=1, is_short=False, price=\"BSM\", S0=332)])\n",
    "\n",
    "    portfolio.graph_profit(start=0, end=700)\n",
    "\n",
    "    # Condor of Amazon\n",
    "    portfolio = Portfolio([EuroCall(K=405, T=1, is_short=False, price=\"BSM\", S0=332),\n",
    "                           EuroCall(K=375, T=1, is_short=True, price=\"BSM\", S0=332),\n",
    "                           EuroCall(K=300, T=1, is_short=True, price=\"BSM\", S0=332),\n",
    "                           EuroCall(K=270, T=1, is_short=False, price=\"BSM\", S0=332)])\n",
    "    # verify put-call parity\n",
    "    K = 10\n",
    "    T = 1\n",
    "    r = 0.01\n",
    "    S0 = 5\n",
    "    call = EuroCall(K=K, T=T, price=\"BSM\", S0=5, r=r)\n",
    "    put = EuroPut(K=K, T=T, price=\"BSM\", S0=5, r=r)\n",
    "    c = call.price\n",
    "    p = put.price\n",
    "    print(c + K * math.exp(-r * T) - p - S0)\n"
   ]
  },
  {
   "cell_type": "code",
   "execution_count": null,
   "metadata": {},
   "outputs": [],
   "source": []
  }
 ],
 "metadata": {
  "kernelspec": {
   "display_name": "Python 2",
   "language": "python",
   "name": "python2"
  },
  "language_info": {
   "codemirror_mode": {
    "name": "ipython",
    "version": 2
   },
   "file_extension": ".py",
   "mimetype": "text/x-python",
   "name": "python",
   "nbconvert_exporter": "python",
   "pygments_lexer": "ipython2",
   "version": "2.7.6"
  }
 },
 "nbformat": 4,
 "nbformat_minor": 0
}
